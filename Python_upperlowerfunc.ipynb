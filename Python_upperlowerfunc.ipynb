{
 "cells": [
  {
   "cell_type": "code",
   "execution_count": 2,
   "id": "6fb3b1e4",
   "metadata": {},
   "outputs": [
    {
     "name": "stdout",
     "output_type": "stream",
     "text": [
      "No. of Upper case characters : 3\n",
      "No. of Lower case Characters : 12\n"
     ]
    }
   ],
   "source": [
    "def upper_lower(str):\n",
    "    upper_count=0\n",
    "    lower_count=0\n",
    "    for c in str:\n",
    "        if c.isupper():\n",
    "            upper_count+=1\n",
    "        elif c.islower():\n",
    "            lower_count+=1\n",
    "    \n",
    "    return upper_count,lower_count\n",
    "\n",
    "text = 'The quick Brow Fox'\n",
    "upper, lower = upper_lower(text)\n",
    "print('No. of Upper case characters : '+ str(upper))\n",
    "print('No. of Lower case Characters : '+ str(lower))\n",
    "            "
   ]
  },
  {
   "cell_type": "code",
   "execution_count": null,
   "id": "6e8691e7",
   "metadata": {},
   "outputs": [],
   "source": []
  }
 ],
 "metadata": {
  "kernelspec": {
   "display_name": "Python 3 (ipykernel)",
   "language": "python",
   "name": "python3"
  },
  "language_info": {
   "codemirror_mode": {
    "name": "ipython",
    "version": 3
   },
   "file_extension": ".py",
   "mimetype": "text/x-python",
   "name": "python",
   "nbconvert_exporter": "python",
   "pygments_lexer": "ipython3",
   "version": "3.9.8"
  }
 },
 "nbformat": 4,
 "nbformat_minor": 5
}
